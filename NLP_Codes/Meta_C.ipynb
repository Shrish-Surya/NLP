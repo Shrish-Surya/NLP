{
  "nbformat": 4,
  "nbformat_minor": 0,
  "metadata": {
    "colab": {
      "provenance": [],
      "gpuType": "T4"
    },
    "kernelspec": {
      "name": "python3",
      "display_name": "Python 3"
    },
    "language_info": {
      "name": "python"
    },
    "accelerator": "GPU"
  },
  "cells": [
    {
      "cell_type": "code",
      "source": [
        "# Import necessary libraries\n",
        "import pandas as pd\n",
        "import numpy as np\n",
        "import tensorflow as tf\n",
        "from sklearn.model_selection import train_test_split\n",
        "from transformers import TFAutoModel, AutoTokenizer"
      ],
      "metadata": {
        "id": "7gVEdJwDFLxO"
      },
      "execution_count": null,
      "outputs": []
    },
    {
      "cell_type": "code",
      "source": [
        "df = pd.read_csv('/content/olid-training-v1.0.tsv', sep='\\t')\n",
        "\n",
        "# Remove unnecessary columns\n",
        "df = df.drop(['id', 'subtask_a', 'subtask_b'], axis=1)\n",
        "\n",
        "# Drop missing values\n",
        "df = df.dropna()\n",
        "\n",
        "# Encode the labels\n",
        "labels = {'OTH': 0, 'GRP': 1, 'IND': 2}\n",
        "df['subtask_c'] = df['subtask_c'].apply(lambda x: labels[x])"
      ],
      "metadata": {
        "id": "yW1sfLXdxwkt"
      },
      "execution_count": null,
      "outputs": []
    },
    {
      "cell_type": "code",
      "source": [
        "# Split the data into training and validation sets\n",
        "X_train, X_val, y_train, y_val = train_test_split(df['tweet'], df['subtask_c'], test_size=0.2, random_state=42)"
      ],
      "metadata": {
        "id": "VvnKZnUexwhW"
      },
      "execution_count": null,
      "outputs": []
    },
    {
      "cell_type": "code",
      "source": [
        "# Load the BERT tokenizer\n",
        "tokenizer = AutoTokenizer.from_pretrained('bert-base-uncased')"
      ],
      "metadata": {
        "id": "lE9ig78Tx089"
      },
      "execution_count": null,
      "outputs": []
    },
    {
      "cell_type": "code",
      "source": [
        "# Tokenize the training and validation sets\n",
        "train_encodings = tokenizer(list(X_train), truncation=True, padding=True)\n",
        "val_encodings = tokenizer(list(X_val), truncation=True, padding=True)"
      ],
      "metadata": {
        "id": "vC7_XOc1x2Op"
      },
      "execution_count": null,
      "outputs": []
    },
    {
      "cell_type": "code",
      "source": [
        "# Create TensorFlow datasets\n",
        "train_dataset = tf.data.Dataset.from_tensor_slices((\n",
        "    dict(train_encodings),\n",
        "    y_train.values\n",
        "))\n",
        "\n",
        "val_dataset = tf.data.Dataset.from_tensor_slices((\n",
        "    dict(val_encodings),\n",
        "    y_val.values\n",
        "))"
      ],
      "metadata": {
        "id": "HIz2BfQqx30h"
      },
      "execution_count": null,
      "outputs": []
    },
    {
      "cell_type": "code",
      "source": [
        "# Batch the datasets\n",
        "train_dataset = train_dataset.batch(16)\n",
        "val_dataset = val_dataset.batch(16)"
      ],
      "metadata": {
        "id": "45q1Te99x49_"
      },
      "execution_count": null,
      "outputs": []
    },
    {
      "cell_type": "code",
      "source": [
        "# Define the base model\n",
        "base_model = TFAutoModel.from_pretrained('bert-base-uncased')"
      ],
      "metadata": {
        "colab": {
          "base_uri": "https://localhost:8080/"
        },
        "id": "N1CAF3jax6go",
        "outputId": "71e10a42-cb4f-47d1-9092-6776f98df848"
      },
      "execution_count": null,
      "outputs": [
        {
          "output_type": "stream",
          "name": "stderr",
          "text": [
            "Some weights of the PyTorch model were not used when initializing the TF 2.0 model TFBertModel: ['cls.predictions.transform.LayerNorm.weight', 'cls.seq_relationship.weight', 'cls.predictions.bias', 'cls.seq_relationship.bias', 'cls.predictions.transform.dense.bias', 'cls.predictions.transform.LayerNorm.bias', 'cls.predictions.transform.dense.weight']\n",
            "- This IS expected if you are initializing TFBertModel from a PyTorch model trained on another task or with another architecture (e.g. initializing a TFBertForSequenceClassification model from a BertForPreTraining model).\n",
            "- This IS NOT expected if you are initializing TFBertModel from a PyTorch model that you expect to be exactly identical (e.g. initializing a TFBertForSequenceClassification model from a BertForSequenceClassification model).\n",
            "All the weights of TFBertModel were initialized from the PyTorch model.\n",
            "If your task is similar to the task the model of the checkpoint was trained on, you can already use TFBertModel for predictions without further training.\n"
          ]
        }
      ]
    },
    {
      "cell_type": "code",
      "source": [
        "# Define the meta-learner model\n",
        "meta_model = tf.keras.Sequential([\n",
        "    tf.keras.layers.Input(shape=(768,)),\n",
        "    tf.keras.layers.Dense(512, activation='relu'),\n",
        "    tf.keras.layers.Dense(256, activation='relu'),\n",
        "    tf.keras.layers.Dense(3, activation='softmax')\n",
        "])"
      ],
      "metadata": {
        "id": "qG05vdVQx7wz"
      },
      "execution_count": null,
      "outputs": []
    },
    {
      "cell_type": "code",
      "source": [
        "# Define the loss function and optimizer\n",
        "loss_fn = tf.keras.losses.SparseCategoricalCrossentropy()\n",
        "optimizer = tf.keras.optimizers.Adam(learning_rate=1e-4)"
      ],
      "metadata": {
        "id": "A55V96iox9GU"
      },
      "execution_count": null,
      "outputs": []
    },
    {
      "cell_type": "code",
      "source": [
        "# Define the training loop\n",
        "@tf.function\n",
        "def train_step(inputs, labels):\n",
        "    with tf.GradientTape() as tape:\n",
        "        base_output = base_model(inputs)['last_hidden_state'][:, 0, :]\n",
        "        meta_output = meta_model(base_output)\n",
        "        loss = loss_fn(labels, meta_output)\n",
        "    gradients = tape.gradient(loss, meta_model.trainable_weights)\n",
        "    optimizer.apply_gradients(zip(gradients, meta_model.trainable_weights))\n",
        "    return loss"
      ],
      "metadata": {
        "id": "Cur10x3Rx-ZF"
      },
      "execution_count": null,
      "outputs": []
    },
    {
      "cell_type": "code",
      "source": [
        "# Train the model\n",
        "for epoch in range(20):\n",
        "    for inputs, labels in train_dataset:\n",
        "        loss = train_step(inputs, labels)\n",
        "    print('Epoch', epoch+1, '- Loss:', loss.numpy())"
      ],
      "metadata": {
        "colab": {
          "base_uri": "https://localhost:8080/"
        },
        "id": "7q0O9_HKx_iZ",
        "outputId": "830b4928-275c-4b46-e3d1-e10feb9c46d9"
      },
      "execution_count": null,
      "outputs": [
        {
          "output_type": "stream",
          "name": "stdout",
          "text": [
            "Epoch 1 - Loss: 0.8617881\n",
            "Epoch 2 - Loss: 0.83502215\n",
            "Epoch 3 - Loss: 0.8114011\n",
            "Epoch 4 - Loss: 0.8037483\n",
            "Epoch 5 - Loss: 0.7768869\n",
            "Epoch 6 - Loss: 0.7550928\n",
            "Epoch 7 - Loss: 0.7185175\n",
            "Epoch 8 - Loss: 0.68342876\n",
            "Epoch 9 - Loss: 0.64673436\n",
            "Epoch 10 - Loss: 0.6077912\n",
            "Epoch 11 - Loss: 0.56479436\n",
            "Epoch 12 - Loss: 0.51561195\n",
            "Epoch 13 - Loss: 0.46192613\n",
            "Epoch 14 - Loss: 0.41965663\n",
            "Epoch 15 - Loss: 0.3611779\n",
            "Epoch 16 - Loss: 0.31358314\n",
            "Epoch 17 - Loss: 0.2764782\n",
            "Epoch 18 - Loss: 0.23456965\n",
            "Epoch 19 - Loss: 0.20718217\n",
            "Epoch 20 - Loss: 0.16817378\n"
          ]
        }
      ]
    },
    {
      "cell_type": "code",
      "source": [
        "# Evaluate the model on the validation set\n",
        "true_labels = []\n",
        "predictions = []\n",
        "for inputs, labels in val_dataset:\n",
        "    base_output = base_model(inputs)['last_hidden_state'][:, 0, :]\n",
        "    meta_output = meta_model(base_output).numpy()\n",
        "    predicted_labels = np.argmax(meta_output, axis=1)\n",
        "    true_labels.extend(labels.numpy())\n",
        "    predictions.extend(predicted_labels)\n",
        "\n",
        "from sklearn.metrics import classification_report\n",
        "\n",
        "# Print the classification report\n",
        "print(classification_report(true_labels, predictions))"
      ],
      "metadata": {
        "colab": {
          "base_uri": "https://localhost:8080/"
        },
        "id": "7mT0mOb9yA9o",
        "outputId": "efb54253-e280-4b25-d23a-b2c4a23265b4"
      },
      "execution_count": null,
      "outputs": [
        {
          "output_type": "stream",
          "name": "stdout",
          "text": [
            "              precision    recall  f1-score   support\n",
            "\n",
            "           0       0.21      0.04      0.07        73\n",
            "           1       0.54      0.56      0.55       202\n",
            "           2       0.78      0.86      0.82       501\n",
            "\n",
            "    accuracy                           0.70       776\n",
            "   macro avg       0.51      0.49      0.48       776\n",
            "weighted avg       0.67      0.70      0.68       776\n",
            "\n"
          ]
        }
      ]
    }
  ]
}